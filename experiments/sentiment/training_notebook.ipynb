{
 "cells": [
  {
   "attachments": {},
   "cell_type": "markdown",
   "metadata": {},
   "source": [
    "# Running processing jobs\n",
    "\n",
    "Below is a simple example of how to create a processing container, and how to use a PyTorchProcessor to run your own code within a container. This processing job will analyze the sentiment of  s3://sandbox-pdx-414059859629-voiceai-lab-inputs/sentiment-test/test.csv and save them in s3://sandbox-pdx-414059859629-voiceai-lab-output-artifacts/sentiment-test/output_test.csv"
   ]
  },
  {
   "cell_type": "code",
   "execution_count": null,
   "metadata": {},
   "outputs": [],
   "source": [
    "%run -m main"
   ]
  }
 ],
 "metadata": {
  "kernelspec": {
   "display_name": "Python 3",
   "language": "python",
   "name": "python3"
  },
  "language_info": {
   "name": "python",
   "version": "3.10.6"
  },
  "orig_nbformat": 4,
  "vscode": {
   "interpreter": {
    "hash": "aee8b7b246df8f9039afb4144a1f6fd8d2ca17a180786b69acc140d282b71a49"
   }
  }
 },
 "nbformat": 4,
 "nbformat_minor": 2
}
