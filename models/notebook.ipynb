{
 "cells": [
  {
   "attachments": {},
   "cell_type": "markdown",
   "id": "1336d578",
   "metadata": {},
   "source": [
    "Deploy async inference"
   ]
  },
  {
   "cell_type": "code",
   "execution_count": null,
   "id": "82f539c2-fb73-4e30-b9a9-18216654dc5d",
   "metadata": {
    "tags": []
   },
   "outputs": [],
   "source": [
    "%run -m main -s medium -d async"
   ]
  },
  {
   "cell_type": "code",
   "execution_count": null,
   "id": "e1416017",
   "metadata": {},
   "outputs": [],
   "source": [
    "%run -m main -s small -d async"
   ]
  },
  {
   "attachments": {},
   "cell_type": "markdown",
   "id": "b472a74a",
   "metadata": {},
   "source": [
    "Invoke async inference"
   ]
  },
  {
   "cell_type": "code",
   "execution_count": null,
   "id": "32954792",
   "metadata": {},
   "outputs": [],
   "source": [
    "from invoke_async_endpoint import invoke_async_endpoint\n",
    "model_name = \"bea-whisper-async-small-2023-03-10-13-59-52\"\n",
    "one_min_call_body = {\n",
    "    \"audio_url\": \"https://d23v1vftnxxoo2.cloudfront.net/call-1min-example.mp3\",\n",
    "    \"audio_length\": 63,\n",
    "}\n",
    "invoke_async_endpoint(model_name, one_min_call_body)"
   ]
  },
  {
   "attachments": {},
   "cell_type": "markdown",
   "id": "f66981bf",
   "metadata": {},
   "source": [
    "Deploy serverless inference"
   ]
  },
  {
   "cell_type": "code",
   "execution_count": null,
   "id": "a5397d44-2c46-4f4f-9c42-74c3dca4bb82",
   "metadata": {},
   "outputs": [],
   "source": [
    "%run -m main -s medium -d serverless"
   ]
  },
  {
   "cell_type": "code",
   "execution_count": null,
   "id": "8b9fe3ba",
   "metadata": {},
   "outputs": [],
   "source": [
    "%run -m main -s small -d serverless"
   ]
  },
  {
   "attachments": {},
   "cell_type": "markdown",
   "id": "70edf41a",
   "metadata": {},
   "source": [
    "Invoke serverless inference"
   ]
  },
  {
   "cell_type": "code",
   "execution_count": null,
   "id": "2e52adb3",
   "metadata": {},
   "outputs": [],
   "source": [
    "from invoke_endpoint import invoke_endpoint\n",
    "model_name = \"bea-whisper-serverless-small-2023-03-10-13-59-52\"\n",
    "one_min_call_body = {\n",
    "    \"audio_url\": \"https://d23v1vftnxxoo2.cloudfront.net/call-1min-example.mp3\",\n",
    "    \"audio_length\": 63,\n",
    "}\n",
    "invoke_endpoint(model_name, one_min_call_body)"
   ]
  }
 ],
 "metadata": {
  "instance_type": "ml.t3.medium",
  "kernelspec": {
   "display_name": "Python 3",
   "language": "python",
   "name": "python3"
  },
  "language_info": {
   "codemirror_mode": {
    "name": "ipython",
    "version": 3
   },
   "file_extension": ".py",
   "mimetype": "text/x-python",
   "name": "python",
   "nbconvert_exporter": "python",
   "pygments_lexer": "ipython3",
   "version": "3.10.6"
  },
  "vscode": {
   "interpreter": {
    "hash": "aee8b7b246df8f9039afb4144a1f6fd8d2ca17a180786b69acc140d282b71a49"
   }
  }
 },
 "nbformat": 4,
 "nbformat_minor": 5
}
