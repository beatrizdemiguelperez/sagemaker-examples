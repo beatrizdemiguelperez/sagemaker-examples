{
 "cells": [
  {
   "attachments": {},
   "cell_type": "markdown",
   "id": "1336d578",
   "metadata": {},
   "source": [
    "Deploy async inference"
   ]
  },
  {
   "cell_type": "code",
   "execution_count": null,
   "id": "82f539c2-fb73-4e30-b9a9-18216654dc5d",
   "metadata": {
    "tags": []
   },
   "outputs": [],
   "source": [
    "from main import deploy\n",
    "medium_async = deploy(\"async\", \"medium\")\n",
    "small_async = deploy(\"async\", \"small\")"
   ]
  },
  {
   "attachments": {},
   "cell_type": "markdown",
   "id": "b472a74a",
   "metadata": {},
   "source": [
    "Invoke async inference"
   ]
  },
  {
   "cell_type": "code",
   "execution_count": null,
   "id": "32954792",
   "metadata": {},
   "outputs": [],
   "source": [
    "from invoke_async_endpoint import invoke_async_endpoint\n",
    "model_name = medium_async\n",
    "one_min_call_body = {\n",
    "    \"audio_url\": \"https://d23v1vftnxxoo2.cloudfront.net/call-1min-example.mp3\",\n",
    "    \"audio_length\": 63,\n",
    "}\n",
    "invoke_async_endpoint(model_name, one_min_call_body)"
   ]
  },
  {
   "attachments": {},
   "cell_type": "markdown",
   "id": "f66981bf",
   "metadata": {},
   "source": [
    "Deploy serverless inference"
   ]
  },
  {
   "cell_type": "code",
   "execution_count": null,
   "id": "a5397d44-2c46-4f4f-9c42-74c3dca4bb82",
   "metadata": {},
   "outputs": [],
   "source": [
    "from main import deploy\n",
    "medium_serverless = deploy(\"serverless\", \"medium\")\n",
    "small_serverless = deploy(\"serverless\", \"small\")"
   ]
  },
  {
   "attachments": {},
   "cell_type": "markdown",
   "id": "70edf41a",
   "metadata": {},
   "source": [
    "Invoke serverless inference"
   ]
  },
  {
   "cell_type": "code",
   "execution_count": null,
   "id": "2e52adb3",
   "metadata": {},
   "outputs": [],
   "source": [
    "from invoke_endpoint import invoke_endpoint\n",
    "model_name = small_serverless\n",
    "one_min_call_body = {\n",
    "    \"audio_url\": \"https://d23v1vftnxxoo2.cloudfront.net/call-1min-example.mp3\",\n",
    "    \"audio_length\": 63,\n",
    "}\n",
    "invoke_endpoint(model_name, one_min_call_body)"
   ]
  },
  {
   "attachments": {},
   "cell_type": "markdown",
   "id": "04a607b4",
   "metadata": {},
   "source": [
    "Delete all models you created"
   ]
  },
  {
   "cell_type": "code",
   "execution_count": null,
   "id": "475b90f5",
   "metadata": {},
   "outputs": [],
   "source": [
    "import boto3\n",
    "sm_client = boto3.client('sagemaker')\n",
    "sm_client.delete_endpoint(EndpointName=small_serverless)\n",
    "sm_client.delete_endpoint_config(EndpointConfigName=small_serverless)\n",
    "sm_client.delete_model(ModelName=small_serverless)"
   ]
  }
 ],
 "metadata": {
  "instance_type": "ml.t3.medium",
  "kernelspec": {
   "display_name": "Python 3",
   "language": "python",
   "name": "python3"
  },
  "language_info": {
   "codemirror_mode": {
    "name": "ipython",
    "version": 3
   },
   "file_extension": ".py",
   "mimetype": "text/x-python",
   "name": "python",
   "nbconvert_exporter": "python",
   "pygments_lexer": "ipython3",
   "version": "3.10.6"
  },
  "vscode": {
   "interpreter": {
    "hash": "aee8b7b246df8f9039afb4144a1f6fd8d2ca17a180786b69acc140d282b71a49"
   }
  }
 },
 "nbformat": 4,
 "nbformat_minor": 5
}
